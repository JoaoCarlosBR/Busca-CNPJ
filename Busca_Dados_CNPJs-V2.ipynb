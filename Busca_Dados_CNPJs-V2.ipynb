{
 "cells": [
  {
   "cell_type": "markdown",
   "id": "b9555502",
   "metadata": {},
   "source": [
    "ATRAVÉS DE UMA LISTA DE CNPJS É POSSÍVEL REALIZAR UMA BUSCA VIA API DO PROJETO MINHARECEITA.ORG\n",
    "\n",
    "GITHUB DO PROJETO MINHARECEITA.ORG:\n",
    "\n",
    "https://github.com/cuducos/minha-receita\n",
    "\n",
    "CONTRIBUA COM ESSE PROJETO COM SUA DOAÇÃO VIA GITHUB SPONSOR"
   ]
  },
  {
   "cell_type": "code",
   "execution_count": 1,
   "id": "b7bae7d2",
   "metadata": {},
   "outputs": [],
   "source": [
    "import requests as r\n",
    "import json\n"
   ]
  },
  {
   "cell_type": "code",
   "execution_count": 2,
   "id": "ad3bf0c1",
   "metadata": {},
   "outputs": [],
   "source": [
    "#CNPJS DEVEM SER LANÇADOS COMO STRING\n",
    "#pode lançar sem pontuação ou com a pontuação padrão do cnpj, desde que seja uma string\n",
    "\n",
    "lista_cnpjs = ['00000000000191', '33000167066129', \"33.592.510/0001-54\"]"
   ]
  },
  {
   "cell_type": "code",
   "execution_count": 3,
   "id": "36981b4e",
   "metadata": {},
   "outputs": [
    {
     "name": "stdout",
     "output_type": "stream",
     "text": [
      "00000000000191\n",
      "33000167066129\n",
      "33.592.510/0001-54\n"
     ]
    }
   ],
   "source": [
    "for empresas in lista_cnpjs:\n",
    "    print (empresas)"
   ]
  },
  {
   "cell_type": "code",
   "execution_count": 4,
   "id": "132ec47a",
   "metadata": {},
   "outputs": [],
   "source": [
    "lista_consultas = []"
   ]
  },
  {
   "cell_type": "code",
   "execution_count": 5,
   "id": "0373b0b8",
   "metadata": {},
   "outputs": [
    {
     "name": "stdout",
     "output_type": "stream",
     "text": [
      "['00000000000191', 'BANCO DO BRASIL SA', '1966-08-01', 90000020000, 'Bancos múltiplos, com carteira comercial', 'Sociedade de Economia Mista', 'BRASILIA', 'DF']\n",
      "['00000000000191', 'BANCO DO BRASIL SA', '1966-08-01', 90000020000, 'Bancos múltiplos, com carteira comercial', 'Sociedade de Economia Mista', 'BRASILIA', 'DF']\n",
      "['33000167066129', 'PETROLEO BRASILEIRO S A PETROBRAS', '1969-10-21', 205431960000, 'Comércio atacadista de álcool carburante, biodiesel, gasolina e demais derivados de petróleo, exceto lubrificantes, não realizado por transportador re', 'Sociedade de Economia Mista', 'SAO SEBASTIAO', 'SP']\n",
      "['00000000000191', 'BANCO DO BRASIL SA', '1966-08-01', 90000020000, 'Bancos múltiplos, com carteira comercial', 'Sociedade de Economia Mista', 'BRASILIA', 'DF']\n",
      "['33000167066129', 'PETROLEO BRASILEIRO S A PETROBRAS', '1969-10-21', 205431960000, 'Comércio atacadista de álcool carburante, biodiesel, gasolina e demais derivados de petróleo, exceto lubrificantes, não realizado por transportador re', 'Sociedade de Economia Mista', 'SAO SEBASTIAO', 'SP']\n",
      "['33592510000154', 'VALE S.A.', '1969-02-11', 77300000000, 'Extração de minério de ferro', 'Sociedade Anônima Aberta', 'RIO DE JANEIRO', 'RJ']\n"
     ]
    }
   ],
   "source": [
    "#https://www.youtube.com/watch?v=d5iH4N1vHkQ\n",
    "for cnpj in lista_cnpjs:\n",
    "    url = 'https://minhareceita.org/{}'.format(cnpj)\n",
    "    req = r.get(url, timeout = 3)\n",
    "    dadoscnpj = req.json()\n",
    "    #print(dadoscnpj)\n",
    "    lista_consultas.append([dadoscnpj[\"cnpj\"], dadoscnpj[\"razao_social\"], dadoscnpj[\"data_inicio_atividade\"], dadoscnpj[\"capital_social\"], dadoscnpj[\"cnae_fiscal_descricao\"], dadoscnpj[\"natureza_juridica\"], dadoscnpj[\"municipio\"], dadoscnpj[\"uf\"]])\n",
    "    for consultas in lista_consultas:\n",
    "        print (consultas)"
   ]
  },
  {
   "cell_type": "code",
   "execution_count": 6,
   "id": "be056470",
   "metadata": {},
   "outputs": [],
   "source": [
    "lista_consultas.insert(0, ['CNPJ', 'RAZÃO SOCIAL', 'FUNDAÇÃO', 'CAPITAL SOCIAL', 'ATIVIDADE', 'NATUREZA', 'MUNICIPIO', 'UF'])"
   ]
  },
  {
   "cell_type": "code",
   "execution_count": 7,
   "id": "9e1aa82c",
   "metadata": {},
   "outputs": [],
   "source": [
    "import pandas as pd"
   ]
  },
  {
   "cell_type": "code",
   "execution_count": 8,
   "id": "3bf43820",
   "metadata": {},
   "outputs": [],
   "source": [
    "tabela = pd.DataFrame(lista_consultas)"
   ]
  },
  {
   "cell_type": "code",
   "execution_count": 9,
   "id": "c6f491ab",
   "metadata": {},
   "outputs": [],
   "source": [
    "tabela.to_excel('NomeQueQuero.xlsx')#aqui o arquivo é salvo na pasta onde se encontra o arquivo python"
   ]
  }
 ],
 "metadata": {
  "kernelspec": {
   "display_name": "Python 3",
   "language": "python",
   "name": "python3"
  },
  "language_info": {
   "codemirror_mode": {
    "name": "ipython",
    "version": 3
   },
   "file_extension": ".py",
   "mimetype": "text/x-python",
   "name": "python",
   "nbconvert_exporter": "python",
   "pygments_lexer": "ipython3",
   "version": "3.8.8"
  }
 },
 "nbformat": 4,
 "nbformat_minor": 5
}
